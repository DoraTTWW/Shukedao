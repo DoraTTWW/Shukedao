{
 "cells": [
  {
   "cell_type": "code",
   "execution_count": 1,
   "metadata": {},
   "outputs": [],
   "source": [
    "%matplotlib inline\n",
    "\n",
    "import pandas as pd\n",
    "import numpy as np\n",
    "import matplotlib.pyplot as plt\n",
    "from sklearn.linear_model import LinearRegression\n",
    "from sklearn.model_selection import train_test_split\n",
    "from sklearn.preprocessing import scale \n",
    "from sklearn import model_selection\n",
    "from sklearn.decomposition import PCA\n",
    "from sklearn.linear_model import LinearRegression\n",
    "from sklearn.cross_decomposition import PLSRegression, PLSSVD\n",
    "from sklearn.metrics import mean_squared_error"
   ]
  },
  {
   "cell_type": "code",
   "execution_count": 2,
   "metadata": {},
   "outputs": [],
   "source": [
    "df=pd.read_excel('like1ben.xls')"
   ]
  },
  {
   "cell_type": "code",
   "execution_count": 3,
   "metadata": {},
   "outputs": [],
   "source": [
    "cols = list(df)\n",
    "cols.insert(0,cols.pop(cols.index('hubei')))"
   ]
  },
  {
   "cell_type": "code",
   "execution_count": 4,
   "metadata": {},
   "outputs": [],
   "source": [
    "df = df.loc[:,cols]"
   ]
  },
  {
   "cell_type": "code",
   "execution_count": 5,
   "metadata": {},
   "outputs": [
    {
     "data": {
      "text/html": [
       "<div>\n",
       "<style scoped>\n",
       "    .dataframe tbody tr th:only-of-type {\n",
       "        vertical-align: middle;\n",
       "    }\n",
       "\n",
       "    .dataframe tbody tr th {\n",
       "        vertical-align: top;\n",
       "    }\n",
       "\n",
       "    .dataframe thead th {\n",
       "        text-align: right;\n",
       "    }\n",
       "</style>\n",
       "<table border=\"1\" class=\"dataframe\">\n",
       "  <thead>\n",
       "    <tr style=\"text-align: right;\">\n",
       "      <th></th>\n",
       "      <th>hubei</th>\n",
       "      <th>year</th>\n",
       "      <th>henan</th>\n",
       "      <th>shanxi</th>\n",
       "      <th>jiangxi</th>\n",
       "      <th>hunan</th>\n",
       "      <th>anhui</th>\n",
       "    </tr>\n",
       "  </thead>\n",
       "  <tbody>\n",
       "    <tr>\n",
       "      <th>0</th>\n",
       "      <td>521</td>\n",
       "      <td>2020</td>\n",
       "      <td>544</td>\n",
       "      <td>537</td>\n",
       "      <td>535</td>\n",
       "      <td>507</td>\n",
       "      <td>515</td>\n",
       "    </tr>\n",
       "    <tr>\n",
       "      <th>1</th>\n",
       "      <td>505</td>\n",
       "      <td>2019</td>\n",
       "      <td>502</td>\n",
       "      <td>507</td>\n",
       "      <td>522</td>\n",
       "      <td>500</td>\n",
       "      <td>496</td>\n",
       "    </tr>\n",
       "    <tr>\n",
       "      <th>2</th>\n",
       "      <td>512</td>\n",
       "      <td>2018</td>\n",
       "      <td>499</td>\n",
       "      <td>516</td>\n",
       "      <td>527</td>\n",
       "      <td>513</td>\n",
       "      <td>505</td>\n",
       "    </tr>\n",
       "    <tr>\n",
       "      <th>3</th>\n",
       "      <td>484</td>\n",
       "      <td>2017</td>\n",
       "      <td>484</td>\n",
       "      <td>481</td>\n",
       "      <td>503</td>\n",
       "      <td>505</td>\n",
       "      <td>487</td>\n",
       "    </tr>\n",
       "    <tr>\n",
       "      <th>4</th>\n",
       "      <td>512</td>\n",
       "      <td>2016</td>\n",
       "      <td>523</td>\n",
       "      <td>519</td>\n",
       "      <td>529</td>\n",
       "      <td>517</td>\n",
       "      <td>518</td>\n",
       "    </tr>\n",
       "    <tr>\n",
       "      <th>5</th>\n",
       "      <td>510</td>\n",
       "      <td>2015</td>\n",
       "      <td>529</td>\n",
       "      <td>515</td>\n",
       "      <td>540</td>\n",
       "      <td>526</td>\n",
       "      <td>555</td>\n",
       "    </tr>\n",
       "    <tr>\n",
       "      <th>6</th>\n",
       "      <td>533</td>\n",
       "      <td>2014</td>\n",
       "      <td>547</td>\n",
       "      <td>534</td>\n",
       "      <td>526</td>\n",
       "      <td>522</td>\n",
       "      <td>489</td>\n",
       "    </tr>\n",
       "    <tr>\n",
       "      <th>7</th>\n",
       "      <td>527</td>\n",
       "      <td>2013</td>\n",
       "      <td>505</td>\n",
       "      <td>493</td>\n",
       "      <td>517</td>\n",
       "      <td>495</td>\n",
       "      <td>490</td>\n",
       "    </tr>\n",
       "    <tr>\n",
       "      <th>8</th>\n",
       "      <td>551</td>\n",
       "      <td>2012</td>\n",
       "      <td>540</td>\n",
       "      <td>530</td>\n",
       "      <td>547</td>\n",
       "      <td>520</td>\n",
       "      <td>544</td>\n",
       "    </tr>\n",
       "    <tr>\n",
       "      <th>9</th>\n",
       "      <td>571</td>\n",
       "      <td>2011</td>\n",
       "      <td>582</td>\n",
       "      <td>570</td>\n",
       "      <td>531</td>\n",
       "      <td>572</td>\n",
       "      <td>534</td>\n",
       "    </tr>\n",
       "    <tr>\n",
       "      <th>10</th>\n",
       "      <td>557</td>\n",
       "      <td>2010</td>\n",
       "      <td>552</td>\n",
       "      <td>536</td>\n",
       "      <td>515</td>\n",
       "      <td>567</td>\n",
       "      <td>562</td>\n",
       "    </tr>\n",
       "  </tbody>\n",
       "</table>\n",
       "</div>"
      ],
      "text/plain": [
       "    hubei  year  henan  shanxi  jiangxi  hunan  anhui\n",
       "0     521  2020    544     537      535    507    515\n",
       "1     505  2019    502     507      522    500    496\n",
       "2     512  2018    499     516      527    513    505\n",
       "3     484  2017    484     481      503    505    487\n",
       "4     512  2016    523     519      529    517    518\n",
       "5     510  2015    529     515      540    526    555\n",
       "6     533  2014    547     534      526    522    489\n",
       "7     527  2013    505     493      517    495    490\n",
       "8     551  2012    540     530      547    520    544\n",
       "9     571  2011    582     570      531    572    534\n",
       "10    557  2010    552     536      515    567    562"
      ]
     },
     "execution_count": 5,
     "metadata": {},
     "output_type": "execute_result"
    }
   ],
   "source": [
    "df"
   ]
  },
  {
   "cell_type": "code",
   "execution_count": 6,
   "metadata": {},
   "outputs": [],
   "source": [
    "df010 = df.drop(index = 0)\n",
    "df011 = df[0:1]"
   ]
  },
  {
   "cell_type": "code",
   "execution_count": 7,
   "metadata": {},
   "outputs": [],
   "source": [
    "X=df010[['year','henan','shanxi','jiangxi','hunan','anhui']]                         \n",
    "y=df010.hubei"
   ]
  },
  {
   "cell_type": "markdown",
   "metadata": {},
   "source": [
    "# 数据标准化"
   ]
  },
  {
   "cell_type": "code",
   "execution_count": 8,
   "metadata": {},
   "outputs": [
    {
     "name": "stderr",
     "output_type": "stream",
     "text": [
      "C:\\Users\\dyw2000\\Anaconda3\\lib\\site-packages\\ipykernel_launcher.py:3: DataConversionWarning: Data with input dtype int64 were all converted to float64 by the scale function.\n",
      "  This is separate from the ipykernel package so we can avoid doing imports until\n"
     ]
    }
   ],
   "source": [
    "# PCA需数据标准化\n",
    "pca = PCA()\n",
    "X_reduced = pca.fit_transform(scale(X))"
   ]
  },
  {
   "cell_type": "code",
   "execution_count": 9,
   "metadata": {},
   "outputs": [
    {
     "data": {
      "text/html": [
       "<div>\n",
       "<style scoped>\n",
       "    .dataframe tbody tr th:only-of-type {\n",
       "        vertical-align: middle;\n",
       "    }\n",
       "\n",
       "    .dataframe tbody tr th {\n",
       "        vertical-align: top;\n",
       "    }\n",
       "\n",
       "    .dataframe thead th {\n",
       "        text-align: right;\n",
       "    }\n",
       "</style>\n",
       "<table border=\"1\" class=\"dataframe\">\n",
       "  <thead>\n",
       "    <tr style=\"text-align: right;\">\n",
       "      <th></th>\n",
       "      <th>0</th>\n",
       "      <th>1</th>\n",
       "      <th>2</th>\n",
       "      <th>3</th>\n",
       "      <th>4</th>\n",
       "      <th>5</th>\n",
       "    </tr>\n",
       "  </thead>\n",
       "  <tbody>\n",
       "    <tr>\n",
       "      <th>0</th>\n",
       "      <td>-0.399807</td>\n",
       "      <td>-0.319812</td>\n",
       "      <td>0.253159</td>\n",
       "      <td>-0.770787</td>\n",
       "      <td>-0.281849</td>\n",
       "      <td>0.015304</td>\n",
       "    </tr>\n",
       "    <tr>\n",
       "      <th>1</th>\n",
       "      <td>0.472719</td>\n",
       "      <td>0.070527</td>\n",
       "      <td>0.315698</td>\n",
       "      <td>0.125818</td>\n",
       "      <td>-0.809292</td>\n",
       "      <td>0.033366</td>\n",
       "    </tr>\n",
       "    <tr>\n",
       "      <th>2</th>\n",
       "      <td>0.450059</td>\n",
       "      <td>-0.021154</td>\n",
       "      <td>0.516303</td>\n",
       "      <td>-0.209731</td>\n",
       "      <td>0.451750</td>\n",
       "      <td>0.531381</td>\n",
       "    </tr>\n",
       "    <tr>\n",
       "      <th>3</th>\n",
       "      <td>0.255050</td>\n",
       "      <td>-0.858900</td>\n",
       "      <td>0.089937</td>\n",
       "      <td>0.200537</td>\n",
       "      <td>0.125340</td>\n",
       "      <td>-0.365002</td>\n",
       "    </tr>\n",
       "    <tr>\n",
       "      <th>4</th>\n",
       "      <td>0.444827</td>\n",
       "      <td>0.333511</td>\n",
       "      <td>-0.027217</td>\n",
       "      <td>-0.457027</td>\n",
       "      <td>0.179597</td>\n",
       "      <td>-0.670097</td>\n",
       "    </tr>\n",
       "  </tbody>\n",
       "</table>\n",
       "</div>"
      ],
      "text/plain": [
       "          0         1         2         3         4         5\n",
       "0 -0.399807 -0.319812  0.253159 -0.770787 -0.281849  0.015304\n",
       "1  0.472719  0.070527  0.315698  0.125818 -0.809292  0.033366\n",
       "2  0.450059 -0.021154  0.516303 -0.209731  0.451750  0.531381\n",
       "3  0.255050 -0.858900  0.089937  0.200537  0.125340 -0.365002\n",
       "4  0.444827  0.333511 -0.027217 -0.457027  0.179597 -0.670097"
      ]
     },
     "execution_count": 9,
     "metadata": {},
     "output_type": "execute_result"
    }
   ],
   "source": [
    "pd.DataFrame(pca.components_.T).loc[:4,:5]"
   ]
  },
  {
   "cell_type": "markdown",
   "metadata": {},
   "source": [
    "# 交叉验证及MSE随主成分个数变化曲线"
   ]
  },
  {
   "cell_type": "code",
   "execution_count": 10,
   "metadata": {},
   "outputs": [],
   "source": [
    "# 我以MSE为指标，利用十折交叉验证来选择主成分个数"
   ]
  },
  {
   "cell_type": "code",
   "execution_count": 11,
   "metadata": {},
   "outputs": [
    {
     "data": {
      "image/png": "[encoded data removed]",
      "text/plain": [
       "<Figure size 432x288 with 1 Axes>"
      ]
     },
     "metadata": {
      "needs_background": "light"
     },
     "output_type": "display_data"
    }
   ],
   "source": [
    "n = len(X_reduced)\n",
    "kf_10 = model_selection.KFold( n_splits=10, shuffle=True, random_state=1)\n",
    "\n",
    "regr = LinearRegression()\n",
    "mse = []\n",
    "\n",
    "# 只用截距项来做回归时的MSE\n",
    "score = -1*model_selection.cross_val_score(regr, np.ones((n,1)), y.ravel(), cv=kf_10, scoring='neg_mean_squared_error').mean()    \n",
    "mse.append(score)\n",
    "\n",
    "# 对11个主成分做交叉验证，以MSE为指标, 每次增加一个主成分.\n",
    "for i in np.arange(1, 6):\n",
    "    score = -1*model_selection.cross_val_score(regr, X_reduced[:,:i], y.ravel(), cv=kf_10, scoring='neg_mean_squared_error').mean()\n",
    "    mse.append(score)\n",
    "    \n",
    "# Plot results    \n",
    "plt.plot(mse, '-v')\n",
    "plt.xlabel('Number of principal components in regression')\n",
    "plt.ylabel('MSE')\n",
    "plt.title('Quality')\n",
    "plt.xlim(left=-0.1);"
   ]
  },
  {
   "cell_type": "markdown",
   "metadata": {},
   "source": [
    "# 利用合适主成分个数进行PCA回归"
   ]
  },
  {
   "cell_type": "code",
   "execution_count": 12,
   "metadata": {},
   "outputs": [],
   "source": [
    "# 对数据进行标准化\n",
    "X = (X - X.mean())/np.std(X)\n",
    "y = (y - y.mean())/np.std(y)\n",
    "# 对数据进行分割\n",
    "pca_best = PCA(n_components = 4)\n",
    "# 对模型进行训练\n",
    "pca_best.fit(X)\n",
    "# 返回降维后数据\n",
    "X_train = pca_best.transform(X)\n",
    "Y_train = y"
   ]
  },
  {
   "cell_type": "code",
   "execution_count": 13,
   "metadata": {},
   "outputs": [
    {
     "data": {
      "text/plain": [
       "0.9116133116602964"
      ]
     },
     "execution_count": 13,
     "metadata": {},
     "output_type": "execute_result"
    }
   ],
   "source": [
    "# 使用LinearRegression进行拟合\n",
    "from sklearn.linear_model import LinearRegression\n",
    "lr = LinearRegression()\n",
    "lr.fit(X_train,Y_train)   # 模型训练\n",
    "lr.score(X_train, Y_train) # 获取模型的得分"
   ]
  },
  {
   "cell_type": "markdown",
   "metadata": {},
   "source": [
    "# 预测"
   ]
  },
  {
   "cell_type": "code",
   "execution_count": 14,
   "metadata": {},
   "outputs": [],
   "source": [
    "import statsmodels.api as sm"
   ]
  },
  {
   "cell_type": "code",
   "execution_count": 15,
   "metadata": {},
   "outputs": [
    {
     "name": "stdout",
     "output_type": "stream",
     "text": [
      "[-786.9596748]\n"
     ]
    }
   ],
   "source": [
    "X_test = pca_best.transform(df011[['year','henan','shanxi','jiangxi','hunan','anhui']])\n",
    "y_pred = lr.predict(X_test)\n",
    "print(y_pred)"
   ]
  },
  {
   "cell_type": "code",
   "execution_count": null,
   "metadata": {},
   "outputs": [],
   "source": []
  }
 ],
 "metadata": {
  "kernelspec": {
   "display_name": "Python 3",
   "language": "python",
   "name": "python3"
  },
  "language_info": {
   "codemirror_mode": {
    "name": "ipython",
    "version": 3
   },
   "file_extension": ".py",
   "mimetype": "text/x-python",
   "name": "python",
   "nbconvert_exporter": "python",
   "pygments_lexer": "ipython3",
   "version": "3.7.1"
  }
 },
 "nbformat": 4,
 "nbformat_minor": 2
}
