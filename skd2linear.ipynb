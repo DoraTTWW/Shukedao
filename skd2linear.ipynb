{
 "cells": [
  {
   "cell_type": "code",
   "execution_count": 1,
   "metadata": {},
   "outputs": [],
   "source": [
    "import numpy as np \n",
    "import matplotlib.pyplot as plt \n",
    "import pandas as pd \n",
    "import statsmodels.api as sm\n",
    "from sklearn.linear_model import LinearRegression \n",
    "from statsmodels.stats.outliers_influence import variance_inflation_factor \n",
    "import math\n",
    "import statsmodels.formula.api as smf"
   ]
  },
  {
   "cell_type": "code",
   "execution_count": 2,
   "metadata": {},
   "outputs": [],
   "source": [
    "df01=pd.read_excel('wenke1ben.xls')"
   ]
  },
  {
   "cell_type": "code",
   "execution_count": 3,
   "metadata": {},
   "outputs": [
    {
     "data": {
      "text/html": [
       "<div>\n",
       "<style scoped>\n",
       "    .dataframe tbody tr th:only-of-type {\n",
       "        vertical-align: middle;\n",
       "    }\n",
       "\n",
       "    .dataframe tbody tr th {\n",
       "        vertical-align: top;\n",
       "    }\n",
       "\n",
       "    .dataframe thead th {\n",
       "        text-align: right;\n",
       "    }\n",
       "</style>\n",
       "<table border=\"1\" class=\"dataframe\">\n",
       "  <thead>\n",
       "    <tr style=\"text-align: right;\">\n",
       "      <th></th>\n",
       "      <th>year</th>\n",
       "      <th>hubei</th>\n",
       "      <th>henan</th>\n",
       "      <th>shanxi</th>\n",
       "      <th>jiangxi</th>\n",
       "      <th>hunan</th>\n",
       "      <th>anhui</th>\n",
       "    </tr>\n",
       "  </thead>\n",
       "  <tbody>\n",
       "    <tr>\n",
       "      <th>0</th>\n",
       "      <td>2020</td>\n",
       "      <td>531</td>\n",
       "      <td>556</td>\n",
       "      <td>542</td>\n",
       "      <td>547</td>\n",
       "      <td>550</td>\n",
       "      <td>541</td>\n",
       "    </tr>\n",
       "    <tr>\n",
       "      <th>1</th>\n",
       "      <td>2019</td>\n",
       "      <td>542</td>\n",
       "      <td>536</td>\n",
       "      <td>545</td>\n",
       "      <td>558</td>\n",
       "      <td>553</td>\n",
       "      <td>550</td>\n",
       "    </tr>\n",
       "    <tr>\n",
       "      <th>2</th>\n",
       "      <td>2018</td>\n",
       "      <td>561</td>\n",
       "      <td>547</td>\n",
       "      <td>546</td>\n",
       "      <td>568</td>\n",
       "      <td>569</td>\n",
       "      <td>550</td>\n",
       "    </tr>\n",
       "    <tr>\n",
       "      <th>3</th>\n",
       "      <td>2017</td>\n",
       "      <td>528</td>\n",
       "      <td>516</td>\n",
       "      <td>518</td>\n",
       "      <td>533</td>\n",
       "      <td>548</td>\n",
       "      <td>515</td>\n",
       "    </tr>\n",
       "    <tr>\n",
       "      <th>4</th>\n",
       "      <td>2016</td>\n",
       "      <td>520</td>\n",
       "      <td>517</td>\n",
       "      <td>518</td>\n",
       "      <td>523</td>\n",
       "      <td>530</td>\n",
       "      <td>521</td>\n",
       "    </tr>\n",
       "    <tr>\n",
       "      <th>5</th>\n",
       "      <td>2015</td>\n",
       "      <td>521</td>\n",
       "      <td>513</td>\n",
       "      <td>513</td>\n",
       "      <td>528</td>\n",
       "      <td>535</td>\n",
       "      <td>597</td>\n",
       "    </tr>\n",
       "    <tr>\n",
       "      <th>6</th>\n",
       "      <td>2014</td>\n",
       "      <td>535</td>\n",
       "      <td>536</td>\n",
       "      <td>526</td>\n",
       "      <td>524</td>\n",
       "      <td>562</td>\n",
       "      <td>541</td>\n",
       "    </tr>\n",
       "    <tr>\n",
       "      <th>7</th>\n",
       "      <td>2013</td>\n",
       "      <td>531</td>\n",
       "      <td>519</td>\n",
       "      <td>507</td>\n",
       "      <td>532</td>\n",
       "      <td>557</td>\n",
       "      <td>540</td>\n",
       "    </tr>\n",
       "    <tr>\n",
       "      <th>8</th>\n",
       "      <td>2012</td>\n",
       "      <td>561</td>\n",
       "      <td>557</td>\n",
       "      <td>539</td>\n",
       "      <td>570</td>\n",
       "      <td>571</td>\n",
       "      <td>577</td>\n",
       "    </tr>\n",
       "    <tr>\n",
       "      <th>9</th>\n",
       "      <td>2011</td>\n",
       "      <td>547</td>\n",
       "      <td>562</td>\n",
       "      <td>543</td>\n",
       "      <td>532</td>\n",
       "      <td>583</td>\n",
       "      <td>547</td>\n",
       "    </tr>\n",
       "    <tr>\n",
       "      <th>10</th>\n",
       "      <td>2010</td>\n",
       "      <td>530</td>\n",
       "      <td>532</td>\n",
       "      <td>533</td>\n",
       "      <td>521</td>\n",
       "      <td>578</td>\n",
       "      <td>573</td>\n",
       "    </tr>\n",
       "  </tbody>\n",
       "</table>\n",
       "</div>"
      ],
      "text/plain": [
       "    year  hubei  henan  shanxi  jiangxi  hunan  anhui\n",
       "0   2020    531    556     542      547    550    541\n",
       "1   2019    542    536     545      558    553    550\n",
       "2   2018    561    547     546      568    569    550\n",
       "3   2017    528    516     518      533    548    515\n",
       "4   2016    520    517     518      523    530    521\n",
       "5   2015    521    513     513      528    535    597\n",
       "6   2014    535    536     526      524    562    541\n",
       "7   2013    531    519     507      532    557    540\n",
       "8   2012    561    557     539      570    571    577\n",
       "9   2011    547    562     543      532    583    547\n",
       "10  2010    530    532     533      521    578    573"
      ]
     },
     "execution_count": 3,
     "metadata": {},
     "output_type": "execute_result"
    }
   ],
   "source": [
    "df01"
   ]
  },
  {
   "cell_type": "code",
   "execution_count": 4,
   "metadata": {},
   "outputs": [],
   "source": [
    "df010 = df01.drop(index = 0)\n",
    "df011 = df01[0:1]"
   ]
  },
  {
   "cell_type": "markdown",
   "metadata": {},
   "source": [
    "# 多元线性回归"
   ]
  },
  {
   "cell_type": "code",
   "execution_count": 5,
   "metadata": {},
   "outputs": [],
   "source": [
    "y01=df010.hubei"
   ]
  },
  {
   "cell_type": "code",
   "execution_count": 6,
   "metadata": {},
   "outputs": [],
   "source": [
    "X01=df010[['year','henan','shanxi','jiangxi','hunan','anhui']]                         \n",
    "X01=sm.add_constant(X01)"
   ]
  },
  {
   "cell_type": "code",
   "execution_count": 7,
   "metadata": {},
   "outputs": [],
   "source": [
    "est=sm.OLS(y01,X01).fit()"
   ]
  },
  {
   "cell_type": "code",
   "execution_count": 8,
   "metadata": {},
   "outputs": [
    {
     "name": "stderr",
     "output_type": "stream",
     "text": [
      "C:\\Users\\dyw2000\\Anaconda3\\lib\\site-packages\\scipy\\stats\\stats.py:1394: UserWarning: kurtosistest only valid for n>=20 ... continuing anyway, n=10\n",
      "  \"anyway, n=%i\" % int(n))\n"
     ]
    },
    {
     "data": {
      "text/html": [
       "<table class=\"simpletable\">\n",
       "<caption>OLS Regression Results</caption>\n",
       "<tr>\n",
       "  <th>Dep. Variable:</th>          <td>hubei</td>      <th>  R-squared:         </th> <td>   0.988</td>\n",
       "</tr>\n",
       "<tr>\n",
       "  <th>Model:</th>                   <td>OLS</td>       <th>  Adj. R-squared:    </th> <td>   0.964</td>\n",
       "</tr>\n",
       "<tr>\n",
       "  <th>Method:</th>             <td>Least Squares</td>  <th>  F-statistic:       </th> <td>   41.49</td>\n",
       "</tr>\n",
       "<tr>\n",
       "  <th>Date:</th>             <td>Thu, 10 Dec 2020</td> <th>  Prob (F-statistic):</th>  <td>0.00560</td>\n",
       "</tr>\n",
       "<tr>\n",
       "  <th>Time:</th>                 <td>13:48:40</td>     <th>  Log-Likelihood:    </th> <td> -18.500</td>\n",
       "</tr>\n",
       "<tr>\n",
       "  <th>No. Observations:</th>      <td>    10</td>      <th>  AIC:               </th> <td>   51.00</td>\n",
       "</tr>\n",
       "<tr>\n",
       "  <th>Df Residuals:</th>          <td>     3</td>      <th>  BIC:               </th> <td>   53.12</td>\n",
       "</tr>\n",
       "<tr>\n",
       "  <th>Df Model:</th>              <td>     6</td>      <th>                     </th>     <td> </td>   \n",
       "</tr>\n",
       "<tr>\n",
       "  <th>Covariance Type:</th>      <td>nonrobust</td>    <th>                     </th>     <td> </td>   \n",
       "</tr>\n",
       "</table>\n",
       "<table class=\"simpletable\">\n",
       "<tr>\n",
       "     <td></td>        <th>coef</th>     <th>std err</th>      <th>t</th>      <th>P>|t|</th>  <th>[0.025</th>    <th>0.975]</th>  \n",
       "</tr>\n",
       "<tr>\n",
       "  <th>const</th>   <td>-2038.0687</td> <td> 1807.888</td> <td>   -1.127</td> <td> 0.342</td> <td>-7791.575</td> <td> 3715.438</td>\n",
       "</tr>\n",
       "<tr>\n",
       "  <th>year</th>    <td>    1.0270</td> <td>    0.891</td> <td>    1.152</td> <td> 0.333</td> <td>   -1.809</td> <td>    3.864</td>\n",
       "</tr>\n",
       "<tr>\n",
       "  <th>henan</th>   <td>    0.5088</td> <td>    0.178</td> <td>    2.857</td> <td> 0.065</td> <td>   -0.058</td> <td>    1.076</td>\n",
       "</tr>\n",
       "<tr>\n",
       "  <th>shanxi</th>  <td>   -0.3147</td> <td>    0.195</td> <td>   -1.613</td> <td> 0.205</td> <td>   -0.935</td> <td>    0.306</td>\n",
       "</tr>\n",
       "<tr>\n",
       "  <th>jiangxi</th> <td>    0.4259</td> <td>    0.099</td> <td>    4.310</td> <td> 0.023</td> <td>    0.111</td> <td>    0.740</td>\n",
       "</tr>\n",
       "<tr>\n",
       "  <th>hunan</th>   <td>    0.3024</td> <td>    0.130</td> <td>    2.334</td> <td> 0.102</td> <td>   -0.110</td> <td>    0.715</td>\n",
       "</tr>\n",
       "<tr>\n",
       "  <th>anhui</th>   <td>    0.0059</td> <td>    0.052</td> <td>    0.113</td> <td> 0.917</td> <td>   -0.160</td> <td>    0.172</td>\n",
       "</tr>\n",
       "</table>\n",
       "<table class=\"simpletable\">\n",
       "<tr>\n",
       "  <th>Omnibus:</th>       <td> 0.062</td> <th>  Durbin-Watson:     </th> <td>   2.814</td>\n",
       "</tr>\n",
       "<tr>\n",
       "  <th>Prob(Omnibus):</th> <td> 0.970</td> <th>  Jarque-Bera (JB):  </th> <td>   0.109</td>\n",
       "</tr>\n",
       "<tr>\n",
       "  <th>Skew:</th>          <td>-0.002</td> <th>  Prob(JB):          </th> <td>   0.947</td>\n",
       "</tr>\n",
       "<tr>\n",
       "  <th>Kurtosis:</th>      <td> 2.489</td> <th>  Cond. No.          </th> <td>4.78e+06</td>\n",
       "</tr>\n",
       "</table><br/><br/>Warnings:<br/>[1] Standard Errors assume that the covariance matrix of the errors is correctly specified.<br/>[2] The condition number is large, 4.78e+06. This might indicate that there are<br/>strong multicollinearity or other numerical problems."
      ],
      "text/plain": [
       "<class 'statsmodels.iolib.summary.Summary'>\n",
       "\"\"\"\n",
       "                            OLS Regression Results                            \n",
       "==============================================================================\n",
       "Dep. Variable:                  hubei   R-squared:                       0.988\n",
       "Model:                            OLS   Adj. R-squared:                  0.964\n",
       "Method:                 Least Squares   F-statistic:                     41.49\n",
       "Date:                Thu, 10 Dec 2020   Prob (F-statistic):            0.00560\n",
       "Time:                        13:48:40   Log-Likelihood:                -18.500\n",
       "No. Observations:                  10   AIC:                             51.00\n",
       "Df Residuals:                       3   BIC:                             53.12\n",
       "Df Model:                           6                                         \n",
       "Covariance Type:            nonrobust                                         \n",
       "==============================================================================\n",
       "                 coef    std err          t      P>|t|      [0.025      0.975]\n",
       "------------------------------------------------------------------------------\n",
       "const      -2038.0687   1807.888     -1.127      0.342   -7791.575    3715.438\n",
       "year           1.0270      0.891      1.152      0.333      -1.809       3.864\n",
       "henan          0.5088      0.178      2.857      0.065      -0.058       1.076\n",
       "shanxi        -0.3147      0.195     -1.613      0.205      -0.935       0.306\n",
       "jiangxi        0.4259      0.099      4.310      0.023       0.111       0.740\n",
       "hunan          0.3024      0.130      2.334      0.102      -0.110       0.715\n",
       "anhui          0.0059      0.052      0.113      0.917      -0.160       0.172\n",
       "==============================================================================\n",
       "Omnibus:                        0.062   Durbin-Watson:                   2.814\n",
       "Prob(Omnibus):                  0.970   Jarque-Bera (JB):                0.109\n",
       "Skew:                          -0.002   Prob(JB):                        0.947\n",
       "Kurtosis:                       2.489   Cond. No.                     4.78e+06\n",
       "==============================================================================\n",
       "\n",
       "Warnings:\n",
       "[1] Standard Errors assume that the covariance matrix of the errors is correctly specified.\n",
       "[2] The condition number is large, 4.78e+06. This might indicate that there are\n",
       "strong multicollinearity or other numerical problems.\n",
       "\"\"\""
      ]
     },
     "execution_count": 8,
     "metadata": {},
     "output_type": "execute_result"
    }
   ],
   "source": [
    "est.summary()"
   ]
  },
  {
   "cell_type": "markdown",
   "metadata": {},
   "source": [
    "# 方差膨胀系数计算"
   ]
  },
  {
   "cell_type": "code",
   "execution_count": 9,
   "metadata": {},
   "outputs": [
    {
     "name": "stdout",
     "output_type": "stream",
     "text": [
      "   feature          VIF\n",
      "0     year  2130.103148\n",
      "1    henan  6913.969172\n",
      "2   shanxi  6314.473694\n",
      "3  jiangxi  1802.687535\n",
      "4    hunan  3934.415249\n",
      "5    anhui   560.935638\n"
     ]
    }
   ],
   "source": [
    "vif_data = pd.DataFrame() \n",
    "vif_data[\"feature\"] = X01.iloc[:,1:].columns\n",
    "  \n",
    "# calculating VIF for each feature \n",
    "vif_data[\"VIF\"] = [variance_inflation_factor(X01.iloc[:,1:].values, i) \n",
    "                          for i in range(len(X01.iloc[:,1:].columns))] \n",
    "  \n",
    "print(vif_data)"
   ]
  },
  {
   "cell_type": "markdown",
   "metadata": {},
   "source": [
    "# 回归诊断"
   ]
  },
  {
   "cell_type": "code",
   "execution_count": 10,
   "metadata": {},
   "outputs": [
    {
     "name": "stdout",
     "output_type": "stream",
     "text": [
      "   hubei    resids  std_resids      fitted\n",
      "1    542 -2.831937   -1.007994  544.831937\n",
      "2    561  2.815465    1.002131  558.184535\n",
      "3    528 -0.730754   -0.260103  528.730754\n",
      "4    520  1.454399    0.517676  518.545601\n",
      "5    521 -0.146365   -0.052097  521.146365\n"
     ]
    },
    {
     "data": {
      "image/png": "[encoded data removed]",
      "text/plain": [
       "<Figure size 432x288 with 1 Axes>"
      ]
     },
     "metadata": {
      "needs_background": "light"
     },
     "output_type": "display_data"
    }
   ],
   "source": [
    "lm = smf.ols(formula = 'y01 ~ X01', data = df010).fit()\n",
    "results = pd.DataFrame({'hubei': y01, # y实际值\n",
    "                        'resids': lm.resid, # 残差\n",
    "                        'std_resids': lm.resid_pearson, # 方差标准化的残差\n",
    "                        'fitted': lm.predict() # y预测值\n",
    "                       })\n",
    "print(results.head())\n",
    "\n",
    "# 残差拟合图：横坐标是拟合值，纵坐标是残差。\n",
    "residsvfitted = plt.plot(results['fitted'], results['resids'],  'o')\n",
    "l = plt.axhline(y = 0, color = 'grey', linestyle = 'dashed') # 绘制y=0水平线\n",
    "plt.xlabel('Fitted values')\n",
    "plt.ylabel('Residuals')\n",
    "plt.title('Residuals vs Fitted')\n",
    "plt.show(residsvfitted)\n"
   ]
  },
  {
   "cell_type": "code",
   "execution_count": 11,
   "metadata": {
    "scrolled": true
   },
   "outputs": [
    {
     "data": {
      "image/png": "[encoded data removed]",
      "text/plain": [
       "<Figure size 432x288 with 1 Axes>"
      ]
     },
     "metadata": {
      "needs_background": "light"
     },
     "output_type": "display_data"
    }
   ],
   "source": [
    "# 残差QQ图：用来描述残差是否符合正态分布。\n",
    "qqplot = sm.qqplot(results['std_resids'], line='s')\n",
    "plt.xlabel('Theoretical quantiles')\n",
    "plt.ylabel('Sample quantiles')\n",
    "plt.title('Normal Q-Q')\n",
    "plt.show(qqplot)"
   ]
  },
  {
   "cell_type": "code",
   "execution_count": null,
   "metadata": {},
   "outputs": [],
   "source": []
  }
 ],
 "metadata": {
  "kernelspec": {
   "display_name": "Python 3",
   "language": "python",
   "name": "python3"
  },
  "language_info": {
   "codemirror_mode": {
    "name": "ipython",
    "version": 3
   },
   "file_extension": ".py",
   "mimetype": "text/x-python",
   "name": "python",
   "nbconvert_exporter": "python",
   "pygments_lexer": "ipython3",
   "version": "3.7.1"
  }
 },
 "nbformat": 4,
 "nbformat_minor": 2
}
