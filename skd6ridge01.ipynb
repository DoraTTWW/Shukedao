{
 "cells": [
  {
   "cell_type": "code",
   "execution_count": 1,
   "metadata": {},
   "outputs": [],
   "source": [
    "import numpy as np \n",
    "import matplotlib.pyplot as plt \n",
    "import pandas as pd \n",
    "from sklearn.linear_model import Ridge\n",
    "from sklearn.linear_model import RidgeCV\n",
    "from sklearn import preprocessing\n",
    "from sklearn.preprocessing import StandardScaler\n",
    "import csv\n",
    "from pylab import *\n",
    "from patsy import dmatrices\n",
    "from sklearn.metrics import mean_squared_error,mean_absolute_error,r2_score"
   ]
  },
  {
   "cell_type": "markdown",
   "metadata": {},
   "source": [
    "# 数据导入后交换year与响应变量（湖北成绩）的顺序以便后续操作"
   ]
  },
  {
   "cell_type": "code",
   "execution_count": 2,
   "metadata": {},
   "outputs": [],
   "source": [
    "df01=pd.read_excel('wenke1ben.xls')"
   ]
  },
  {
   "cell_type": "code",
   "execution_count": 3,
   "metadata": {},
   "outputs": [],
   "source": [
    "cols = list(df01)\n",
    "cols.insert(0,cols.pop(cols.index('hubei')))"
   ]
  },
  {
   "cell_type": "code",
   "execution_count": 4,
   "metadata": {},
   "outputs": [],
   "source": [
    "df01 = df01.loc[:,cols]"
   ]
  },
  {
   "cell_type": "code",
   "execution_count": 5,
   "metadata": {},
   "outputs": [],
   "source": [
    "df010 = df01.drop(index = 0)\n",
    "df011 = df01[0:1]"
   ]
  },
  {
   "cell_type": "code",
   "execution_count": 6,
   "metadata": {},
   "outputs": [
    {
     "data": {
      "text/html": [
       "<div>\n",
       "<style scoped>\n",
       "    .dataframe tbody tr th:only-of-type {\n",
       "        vertical-align: middle;\n",
       "    }\n",
       "\n",
       "    .dataframe tbody tr th {\n",
       "        vertical-align: top;\n",
       "    }\n",
       "\n",
       "    .dataframe thead th {\n",
       "        text-align: right;\n",
       "    }\n",
       "</style>\n",
       "<table border=\"1\" class=\"dataframe\">\n",
       "  <thead>\n",
       "    <tr style=\"text-align: right;\">\n",
       "      <th></th>\n",
       "      <th>hubei</th>\n",
       "      <th>year</th>\n",
       "      <th>henan</th>\n",
       "      <th>shanxi</th>\n",
       "      <th>jiangxi</th>\n",
       "      <th>hunan</th>\n",
       "      <th>anhui</th>\n",
       "    </tr>\n",
       "  </thead>\n",
       "  <tbody>\n",
       "    <tr>\n",
       "      <th>1</th>\n",
       "      <td>542</td>\n",
       "      <td>2019</td>\n",
       "      <td>536</td>\n",
       "      <td>545</td>\n",
       "      <td>558</td>\n",
       "      <td>553</td>\n",
       "      <td>550</td>\n",
       "    </tr>\n",
       "    <tr>\n",
       "      <th>2</th>\n",
       "      <td>561</td>\n",
       "      <td>2018</td>\n",
       "      <td>547</td>\n",
       "      <td>546</td>\n",
       "      <td>568</td>\n",
       "      <td>569</td>\n",
       "      <td>550</td>\n",
       "    </tr>\n",
       "    <tr>\n",
       "      <th>3</th>\n",
       "      <td>528</td>\n",
       "      <td>2017</td>\n",
       "      <td>516</td>\n",
       "      <td>518</td>\n",
       "      <td>533</td>\n",
       "      <td>548</td>\n",
       "      <td>515</td>\n",
       "    </tr>\n",
       "    <tr>\n",
       "      <th>4</th>\n",
       "      <td>520</td>\n",
       "      <td>2016</td>\n",
       "      <td>517</td>\n",
       "      <td>518</td>\n",
       "      <td>523</td>\n",
       "      <td>530</td>\n",
       "      <td>521</td>\n",
       "    </tr>\n",
       "    <tr>\n",
       "      <th>5</th>\n",
       "      <td>521</td>\n",
       "      <td>2015</td>\n",
       "      <td>513</td>\n",
       "      <td>513</td>\n",
       "      <td>528</td>\n",
       "      <td>535</td>\n",
       "      <td>597</td>\n",
       "    </tr>\n",
       "    <tr>\n",
       "      <th>6</th>\n",
       "      <td>535</td>\n",
       "      <td>2014</td>\n",
       "      <td>536</td>\n",
       "      <td>526</td>\n",
       "      <td>524</td>\n",
       "      <td>562</td>\n",
       "      <td>541</td>\n",
       "    </tr>\n",
       "    <tr>\n",
       "      <th>7</th>\n",
       "      <td>531</td>\n",
       "      <td>2013</td>\n",
       "      <td>519</td>\n",
       "      <td>507</td>\n",
       "      <td>532</td>\n",
       "      <td>557</td>\n",
       "      <td>540</td>\n",
       "    </tr>\n",
       "    <tr>\n",
       "      <th>8</th>\n",
       "      <td>561</td>\n",
       "      <td>2012</td>\n",
       "      <td>557</td>\n",
       "      <td>539</td>\n",
       "      <td>570</td>\n",
       "      <td>571</td>\n",
       "      <td>577</td>\n",
       "    </tr>\n",
       "    <tr>\n",
       "      <th>9</th>\n",
       "      <td>547</td>\n",
       "      <td>2011</td>\n",
       "      <td>562</td>\n",
       "      <td>543</td>\n",
       "      <td>532</td>\n",
       "      <td>583</td>\n",
       "      <td>547</td>\n",
       "    </tr>\n",
       "    <tr>\n",
       "      <th>10</th>\n",
       "      <td>530</td>\n",
       "      <td>2010</td>\n",
       "      <td>532</td>\n",
       "      <td>533</td>\n",
       "      <td>521</td>\n",
       "      <td>578</td>\n",
       "      <td>573</td>\n",
       "    </tr>\n",
       "  </tbody>\n",
       "</table>\n",
       "</div>"
      ],
      "text/plain": [
       "    hubei  year  henan  shanxi  jiangxi  hunan  anhui\n",
       "1     542  2019    536     545      558    553    550\n",
       "2     561  2018    547     546      568    569    550\n",
       "3     528  2017    516     518      533    548    515\n",
       "4     520  2016    517     518      523    530    521\n",
       "5     521  2015    513     513      528    535    597\n",
       "6     535  2014    536     526      524    562    541\n",
       "7     531  2013    519     507      532    557    540\n",
       "8     561  2012    557     539      570    571    577\n",
       "9     547  2011    562     543      532    583    547\n",
       "10    530  2010    532     533      521    578    573"
      ]
     },
     "execution_count": 6,
     "metadata": {},
     "output_type": "execute_result"
    }
   ],
   "source": [
    "df010"
   ]
  },
  {
   "cell_type": "markdown",
   "metadata": {},
   "source": [
    "# 交叉验证，选择合适的$\\alpha$"
   ]
  },
  {
   "cell_type": "code",
   "execution_count": 7,
   "metadata": {},
   "outputs": [],
   "source": [
    "# make response (ys) and predictors (xs)\n",
    "xs = df010.iloc[:,1:]\n",
    "ys = df010.iloc[:,0]"
   ]
  },
  {
   "cell_type": "code",
   "execution_count": 8,
   "metadata": {},
   "outputs": [
    {
     "data": {
      "text/html": [
       "<div>\n",
       "<style scoped>\n",
       "    .dataframe tbody tr th:only-of-type {\n",
       "        vertical-align: middle;\n",
       "    }\n",
       "\n",
       "    .dataframe tbody tr th {\n",
       "        vertical-align: top;\n",
       "    }\n",
       "\n",
       "    .dataframe thead th {\n",
       "        text-align: right;\n",
       "    }\n",
       "</style>\n",
       "<table border=\"1\" class=\"dataframe\">\n",
       "  <thead>\n",
       "    <tr style=\"text-align: right;\">\n",
       "      <th></th>\n",
       "      <th>year</th>\n",
       "      <th>henan</th>\n",
       "      <th>shanxi</th>\n",
       "      <th>jiangxi</th>\n",
       "      <th>hunan</th>\n",
       "      <th>anhui</th>\n",
       "    </tr>\n",
       "  </thead>\n",
       "  <tbody>\n",
       "    <tr>\n",
       "      <th>1</th>\n",
       "      <td>2019</td>\n",
       "      <td>536</td>\n",
       "      <td>545</td>\n",
       "      <td>558</td>\n",
       "      <td>553</td>\n",
       "      <td>550</td>\n",
       "    </tr>\n",
       "    <tr>\n",
       "      <th>2</th>\n",
       "      <td>2018</td>\n",
       "      <td>547</td>\n",
       "      <td>546</td>\n",
       "      <td>568</td>\n",
       "      <td>569</td>\n",
       "      <td>550</td>\n",
       "    </tr>\n",
       "    <tr>\n",
       "      <th>3</th>\n",
       "      <td>2017</td>\n",
       "      <td>516</td>\n",
       "      <td>518</td>\n",
       "      <td>533</td>\n",
       "      <td>548</td>\n",
       "      <td>515</td>\n",
       "    </tr>\n",
       "    <tr>\n",
       "      <th>4</th>\n",
       "      <td>2016</td>\n",
       "      <td>517</td>\n",
       "      <td>518</td>\n",
       "      <td>523</td>\n",
       "      <td>530</td>\n",
       "      <td>521</td>\n",
       "    </tr>\n",
       "    <tr>\n",
       "      <th>5</th>\n",
       "      <td>2015</td>\n",
       "      <td>513</td>\n",
       "      <td>513</td>\n",
       "      <td>528</td>\n",
       "      <td>535</td>\n",
       "      <td>597</td>\n",
       "    </tr>\n",
       "    <tr>\n",
       "      <th>6</th>\n",
       "      <td>2014</td>\n",
       "      <td>536</td>\n",
       "      <td>526</td>\n",
       "      <td>524</td>\n",
       "      <td>562</td>\n",
       "      <td>541</td>\n",
       "    </tr>\n",
       "    <tr>\n",
       "      <th>7</th>\n",
       "      <td>2013</td>\n",
       "      <td>519</td>\n",
       "      <td>507</td>\n",
       "      <td>532</td>\n",
       "      <td>557</td>\n",
       "      <td>540</td>\n",
       "    </tr>\n",
       "    <tr>\n",
       "      <th>8</th>\n",
       "      <td>2012</td>\n",
       "      <td>557</td>\n",
       "      <td>539</td>\n",
       "      <td>570</td>\n",
       "      <td>571</td>\n",
       "      <td>577</td>\n",
       "    </tr>\n",
       "    <tr>\n",
       "      <th>9</th>\n",
       "      <td>2011</td>\n",
       "      <td>562</td>\n",
       "      <td>543</td>\n",
       "      <td>532</td>\n",
       "      <td>583</td>\n",
       "      <td>547</td>\n",
       "    </tr>\n",
       "    <tr>\n",
       "      <th>10</th>\n",
       "      <td>2010</td>\n",
       "      <td>532</td>\n",
       "      <td>533</td>\n",
       "      <td>521</td>\n",
       "      <td>578</td>\n",
       "      <td>573</td>\n",
       "    </tr>\n",
       "  </tbody>\n",
       "</table>\n",
       "</div>"
      ],
      "text/plain": [
       "    year  henan  shanxi  jiangxi  hunan  anhui\n",
       "1   2019    536     545      558    553    550\n",
       "2   2018    547     546      568    569    550\n",
       "3   2017    516     518      533    548    515\n",
       "4   2016    517     518      523    530    521\n",
       "5   2015    513     513      528    535    597\n",
       "6   2014    536     526      524    562    541\n",
       "7   2013    519     507      532    557    540\n",
       "8   2012    557     539      570    571    577\n",
       "9   2011    562     543      532    583    547\n",
       "10  2010    532     533      521    578    573"
      ]
     },
     "execution_count": 8,
     "metadata": {},
     "output_type": "execute_result"
    }
   ],
   "source": [
    "xs"
   ]
  },
  {
   "cell_type": "code",
   "execution_count": 9,
   "metadata": {},
   "outputs": [
    {
     "name": "stderr",
     "output_type": "stream",
     "text": [
      "C:\\Users\\dyw2000\\Anaconda3\\lib\\site-packages\\sklearn\\preprocessing\\data.py:625: DataConversionWarning: Data with input dtype int64 were all converted to float64 by StandardScaler.\n",
      "  return self.partial_fit(X, y)\n",
      "C:\\Users\\dyw2000\\Anaconda3\\lib\\site-packages\\sklearn\\base.py:462: DataConversionWarning: Data with input dtype int64 were all converted to float64 by StandardScaler.\n",
      "  return self.fit(X, **fit_params).transform(X)\n"
     ]
    },
    {
     "name": "stdout",
     "output_type": "stream",
     "text": [
      "0.2\n"
     ]
    }
   ],
   "source": [
    "###Selecting lambda\n",
    "scaler=StandardScaler()\n",
    "X_std=scaler.fit_transform(xs)\n",
    "\n",
    "# 通过交叉验证来\n",
    "regr_cv=RidgeCV(alphas=np.arange(0.1,5,0.1))\n",
    "\n",
    "model_cv=regr_cv.fit(X_std,ys)\n",
    "\n",
    "# 输出最佳的alpha\n",
    "print(model_cv.alpha_)"
   ]
  },
  {
   "cell_type": "markdown",
   "metadata": {},
   "source": [
    "# 利用最佳的$\\alpha$进行岭回归，并进行预测"
   ]
  },
  {
   "cell_type": "code",
   "execution_count": 10,
   "metadata": {},
   "outputs": [],
   "source": [
    "#预测\n",
    "def predict(data,LinearRegression):\n",
    "    Y_pred = LinearRegression.predict(data)\n",
    "    print(Y_pred)\n",
    "    return Y_pred\n",
    " \n",
    "#训练模型\n",
    "def reg_model(data,label,test):\n",
    "    regr = Ridge(alpha=0.2)   #岭回归\n",
    "    regr.fit(data,label)\n",
    "    Y_pred_train = regr.predict(data)   #训练集的预测值\n",
    "    predict(test,regr)  #预测\n",
    "    print('参数：',regr.coef_.astype(np.float32))    \n",
    "    \n",
    "#对模型进行评估   \n",
    "    print(\"MSE:\",mean_squared_error(label,Y_pred_train))  #误差\n",
    "    print(\"MAE:\",mean_absolute_error(label,Y_pred_train))\n",
    "    print(\"R2:\",r2_score(label,Y_pred_train))"
   ]
  },
  {
   "cell_type": "code",
   "execution_count": 11,
   "metadata": {},
   "outputs": [
    {
     "name": "stderr",
     "output_type": "stream",
     "text": [
      "C:\\Users\\dyw2000\\Anaconda3\\lib\\site-packages\\ipykernel_launcher.py:2: DataConversionWarning: Data with input dtype int64 were all converted to float64 by StandardScaler.\n",
      "  \n"
     ]
    }
   ],
   "source": [
    "xs1 = df011.iloc[:,1:]\n",
    "X_test=scaler.transform(xs1)"
   ]
  },
  {
   "cell_type": "code",
   "execution_count": 12,
   "metadata": {},
   "outputs": [
    {
     "name": "stdout",
     "output_type": "stream",
     "text": [
      "[549.24247046]\n",
      "参数： [ 1.7524482   6.962266   -2.5879858   7.9202285   4.3845596  -0.19438437]\n",
      "MSE: 2.719031019724451\n",
      "MAE: 1.1976879235736988\n",
      "R2: 0.9863255329927356\n"
     ]
    }
   ],
   "source": [
    "reg_model(X_std,ys,X_test)"
   ]
  }
 ],
 "metadata": {
  "kernelspec": {
   "display_name": "Python 3",
   "language": "python",
   "name": "python3"
  },
  "language_info": {
   "codemirror_mode": {
    "name": "ipython",
    "version": 3
   },
   "file_extension": ".py",
   "mimetype": "text/x-python",
   "name": "python",
   "nbconvert_exporter": "python",
   "pygments_lexer": "ipython3",
   "version": "3.7.1"
  }
 },
 "nbformat": 4,
 "nbformat_minor": 2
}
