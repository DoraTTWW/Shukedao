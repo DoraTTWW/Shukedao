{
 "cells": [
  {
   "cell_type": "code",
   "execution_count": 1,
   "metadata": {},
   "outputs": [],
   "source": [
    "import numpy as np \n",
    "import matplotlib.pyplot as plt \n",
    "import pandas as pd \n",
    "from sklearn.linear_model import Lasso\n",
    "from sklearn.linear_model import LassoCV\n",
    "from sklearn import preprocessing\n",
    "from sklearn.preprocessing import StandardScaler\n",
    "import csv\n",
    "from pylab import *\n",
    "from patsy import dmatrices\n",
    "from sklearn.metrics import mean_squared_error,mean_absolute_error,r2_score"
   ]
  },
  {
   "cell_type": "code",
   "execution_count": 2,
   "metadata": {},
   "outputs": [],
   "source": [
    "df01=pd.read_excel('wenke2ben.xls')"
   ]
  },
  {
   "cell_type": "code",
   "execution_count": 3,
   "metadata": {},
   "outputs": [],
   "source": [
    "cols = list(df01)\n",
    "cols.insert(0,cols.pop(cols.index('hubei')))"
   ]
  },
  {
   "cell_type": "code",
   "execution_count": 4,
   "metadata": {},
   "outputs": [],
   "source": [
    "df01 = df01.loc[:,cols]"
   ]
  },
  {
   "cell_type": "code",
   "execution_count": 5,
   "metadata": {},
   "outputs": [],
   "source": [
    "df010 = df01.drop(index = 0)\n",
    "df011 = df01[0:1]"
   ]
  },
  {
   "cell_type": "code",
   "execution_count": 6,
   "metadata": {},
   "outputs": [],
   "source": [
    "xs=df010[['year','henan','anhui']]                         \n",
    "ys=df010.hubei"
   ]
  },
  {
   "cell_type": "code",
   "execution_count": 7,
   "metadata": {},
   "outputs": [
    {
     "name": "stdout",
     "output_type": "stream",
     "text": [
      "0.8\n"
     ]
    },
    {
     "name": "stderr",
     "output_type": "stream",
     "text": [
      "C:\\Users\\dyw2000\\Anaconda3\\lib\\site-packages\\sklearn\\preprocessing\\data.py:625: DataConversionWarning: Data with input dtype int64 were all converted to float64 by StandardScaler.\n",
      "  return self.partial_fit(X, y)\n",
      "C:\\Users\\dyw2000\\Anaconda3\\lib\\site-packages\\sklearn\\base.py:462: DataConversionWarning: Data with input dtype int64 were all converted to float64 by StandardScaler.\n",
      "  return self.fit(X, **fit_params).transform(X)\n",
      "C:\\Users\\dyw2000\\Anaconda3\\lib\\site-packages\\sklearn\\model_selection\\_split.py:2053: FutureWarning: You should specify a value for 'cv' instead of relying on the default value. The default value will change from 3 to 5 in version 0.22.\n",
      "  warnings.warn(CV_WARNING, FutureWarning)\n"
     ]
    }
   ],
   "source": [
    "###Selecting lambda\n",
    "scaler=StandardScaler()\n",
    "X_std=scaler.fit_transform(xs)\n",
    "\n",
    "# 通过交叉验证来\n",
    "regr_cv=LassoCV(alphas=np.arange(0.1,10,0.1))\n",
    "\n",
    "model_cv=regr_cv.fit(X_std,ys)\n",
    "\n",
    "# 输出最佳的alpha\n",
    "print(model_cv.alpha_)"
   ]
  },
  {
   "cell_type": "code",
   "execution_count": 8,
   "metadata": {},
   "outputs": [],
   "source": [
    "#预测\n",
    "def predict(data,LinearRegression):\n",
    "    Y_pred = LinearRegression.predict(data)\n",
    "    print(Y_pred)\n",
    "    return Y_pred\n",
    " \n",
    "#训练模型\n",
    "def reg_model(data,label,test): \n",
    "    regr = Lasso(alpha=0.8)  #Lasso回归\n",
    "    regr.fit(data,label)\n",
    "    Y_pred_train = regr.predict(data)   #训练集的预测值\n",
    "    predict(test,regr)  #预测\n",
    "    print('参数：',regr.coef_.astype(np.float32))    \n",
    "    \n",
    "#对模型进行评估   \n",
    "    print(\"MSE:\",mean_squared_error(label,Y_pred_train))  #误差\n",
    "    print(\"MAE:\",mean_absolute_error(label,Y_pred_train))\n",
    "    print(\"R2:\",r2_score(label,Y_pred_train))"
   ]
  },
  {
   "cell_type": "code",
   "execution_count": 9,
   "metadata": {},
   "outputs": [
    {
     "name": "stderr",
     "output_type": "stream",
     "text": [
      "C:\\Users\\dyw2000\\Anaconda3\\lib\\site-packages\\ipykernel_launcher.py:2: DataConversionWarning: Data with input dtype int64 were all converted to float64 by StandardScaler.\n",
      "  \n"
     ]
    }
   ],
   "source": [
    "xs1 = df011[['year','henan','anhui']]   \n",
    "X_test=scaler.transform(xs1)"
   ]
  },
  {
   "cell_type": "code",
   "execution_count": 10,
   "metadata": {},
   "outputs": [
    {
     "name": "stdout",
     "output_type": "stream",
     "text": [
      "[444.9940886]\n",
      "参数： [-10.017043   21.62846     1.4752465]\n",
      "MSE: 356.97797992116864\n",
      "MAE: 12.282705893129776\n",
      "R2: 0.7403494370827379\n"
     ]
    }
   ],
   "source": [
    "reg_model(X_std,ys,X_test)"
   ]
  },
  {
   "cell_type": "code",
   "execution_count": null,
   "metadata": {},
   "outputs": [],
   "source": []
  }
 ],
 "metadata": {
  "kernelspec": {
   "display_name": "Python 3",
   "language": "python",
   "name": "python3"
  },
  "language_info": {
   "codemirror_mode": {
    "name": "ipython",
    "version": 3
   },
   "file_extension": ".py",
   "mimetype": "text/x-python",
   "name": "python",
   "nbconvert_exporter": "python",
   "pygments_lexer": "ipython3",
   "version": "3.7.1"
  }
 },
 "nbformat": 4,
 "nbformat_minor": 2
}
