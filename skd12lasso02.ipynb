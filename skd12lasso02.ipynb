{
 "cells": [
  {
   "cell_type": "code",
   "execution_count": 1,
   "metadata": {},
   "outputs": [],
   "source": [
    "import numpy as np \n",
    "import matplotlib.pyplot as plt \n",
    "import pandas as pd \n",
    "from sklearn.linear_model import Lasso\n",
    "from sklearn.linear_model import LassoCV\n",
    "from sklearn import preprocessing\n",
    "from sklearn.preprocessing import StandardScaler\n",
    "import csv\n",
    "from pylab import *\n",
    "from patsy import dmatrices\n",
    "from sklearn.metrics import mean_squared_error,mean_absolute_error,r2_score"
   ]
  },
  {
   "cell_type": "code",
   "execution_count": 2,
   "metadata": {},
   "outputs": [],
   "source": [
    "df01=pd.read_excel('wenke2ben.xls')"
   ]
  },
  {
   "cell_type": "code",
   "execution_count": 3,
   "metadata": {},
   "outputs": [],
   "source": [
    "cols = list(df01)\n",
    "cols.insert(0,cols.pop(cols.index('hubei')))"
   ]
  },
  {
   "cell_type": "code",
   "execution_count": 4,
   "metadata": {},
   "outputs": [],
   "source": [
    "df01 = df01.loc[:,cols]"
   ]
  },
  {
   "cell_type": "code",
   "execution_count": 5,
   "metadata": {},
   "outputs": [],
   "source": [
    "df010 = df01.drop(index = 0)\n",
    "df011 = df01[0:1]"
   ]
  },
  {
   "cell_type": "code",
   "execution_count": 6,
   "metadata": {},
   "outputs": [
    {
     "data": {
      "text/html": [
       "<div>\n",
       "<style scoped>\n",
       "    .dataframe tbody tr th:only-of-type {\n",
       "        vertical-align: middle;\n",
       "    }\n",
       "\n",
       "    .dataframe tbody tr th {\n",
       "        vertical-align: top;\n",
       "    }\n",
       "\n",
       "    .dataframe thead th {\n",
       "        text-align: right;\n",
       "    }\n",
       "</style>\n",
       "<table border=\"1\" class=\"dataframe\">\n",
       "  <thead>\n",
       "    <tr style=\"text-align: right;\">\n",
       "      <th></th>\n",
       "      <th>hubei</th>\n",
       "      <th>year</th>\n",
       "      <th>henan</th>\n",
       "      <th>shanxi</th>\n",
       "      <th>jiangxi</th>\n",
       "      <th>hunan</th>\n",
       "      <th>anhui</th>\n",
       "      <th>shandong</th>\n",
       "      <th>guangdong</th>\n",
       "      <th>hebei</th>\n",
       "      <th>fujian</th>\n",
       "    </tr>\n",
       "  </thead>\n",
       "  <tbody>\n",
       "    <tr>\n",
       "      <th>0</th>\n",
       "      <td>426</td>\n",
       "      <td>2020</td>\n",
       "      <td>465</td>\n",
       "      <td>469</td>\n",
       "      <td>488</td>\n",
       "      <td>526</td>\n",
       "      <td>499</td>\n",
       "      <td>503.0</td>\n",
       "      <td>430.0</td>\n",
       "      <td>465</td>\n",
       "      <td>465</td>\n",
       "    </tr>\n",
       "    <tr>\n",
       "      <th>1</th>\n",
       "      <td>445</td>\n",
       "      <td>2019</td>\n",
       "      <td>447</td>\n",
       "      <td>481</td>\n",
       "      <td>502</td>\n",
       "      <td>523</td>\n",
       "      <td>504</td>\n",
       "      <td>505.0</td>\n",
       "      <td>455.0</td>\n",
       "      <td>549</td>\n",
       "      <td>550</td>\n",
       "    </tr>\n",
       "    <tr>\n",
       "      <th>2</th>\n",
       "      <td>441</td>\n",
       "      <td>2018</td>\n",
       "      <td>436</td>\n",
       "      <td>476</td>\n",
       "      <td>496</td>\n",
       "      <td>526</td>\n",
       "      <td>486</td>\n",
       "      <td>483.0</td>\n",
       "      <td>443.0</td>\n",
       "      <td>559</td>\n",
       "      <td>551</td>\n",
       "    </tr>\n",
       "    <tr>\n",
       "      <th>3</th>\n",
       "      <td>406</td>\n",
       "      <td>2017</td>\n",
       "      <td>389</td>\n",
       "      <td>452</td>\n",
       "      <td>458</td>\n",
       "      <td>485</td>\n",
       "      <td>440</td>\n",
       "      <td>483.0</td>\n",
       "      <td>520.0</td>\n",
       "      <td>517</td>\n",
       "      <td>489</td>\n",
       "    </tr>\n",
       "    <tr>\n",
       "      <th>4</th>\n",
       "      <td>403</td>\n",
       "      <td>2016</td>\n",
       "      <td>458</td>\n",
       "      <td>460</td>\n",
       "      <td>450</td>\n",
       "      <td>476</td>\n",
       "      <td>518</td>\n",
       "      <td>530.0</td>\n",
       "      <td>514.0</td>\n",
       "      <td>535</td>\n",
       "      <td>501</td>\n",
       "    </tr>\n",
       "    <tr>\n",
       "      <th>5</th>\n",
       "      <td>477</td>\n",
       "      <td>2015</td>\n",
       "      <td>455</td>\n",
       "      <td>462</td>\n",
       "      <td>487</td>\n",
       "      <td>481</td>\n",
       "      <td>558</td>\n",
       "      <td>568.0</td>\n",
       "      <td>573.0</td>\n",
       "      <td>548</td>\n",
       "      <td>549</td>\n",
       "    </tr>\n",
       "    <tr>\n",
       "      <th>6</th>\n",
       "      <td>482</td>\n",
       "      <td>2014</td>\n",
       "      <td>483</td>\n",
       "      <td>478</td>\n",
       "      <td>479</td>\n",
       "      <td>501</td>\n",
       "      <td>500</td>\n",
       "      <td>579.0</td>\n",
       "      <td>579.0</td>\n",
       "      <td>563</td>\n",
       "      <td>561</td>\n",
       "    </tr>\n",
       "    <tr>\n",
       "      <th>7</th>\n",
       "      <td>480</td>\n",
       "      <td>2013</td>\n",
       "      <td>465</td>\n",
       "      <td>459</td>\n",
       "      <td>484</td>\n",
       "      <td>502</td>\n",
       "      <td>498</td>\n",
       "      <td>570.0</td>\n",
       "      <td>594.0</td>\n",
       "      <td>561</td>\n",
       "      <td>513</td>\n",
       "    </tr>\n",
       "    <tr>\n",
       "      <th>8</th>\n",
       "      <td>515</td>\n",
       "      <td>2012</td>\n",
       "      <td>509</td>\n",
       "      <td>492</td>\n",
       "      <td>523</td>\n",
       "      <td>523</td>\n",
       "      <td>541</td>\n",
       "      <td>573.0</td>\n",
       "      <td>589.0</td>\n",
       "      <td>572</td>\n",
       "      <td>557</td>\n",
       "    </tr>\n",
       "    <tr>\n",
       "      <th>9</th>\n",
       "      <td>507</td>\n",
       "      <td>2011</td>\n",
       "      <td>515</td>\n",
       "      <td>496</td>\n",
       "      <td>484</td>\n",
       "      <td>528</td>\n",
       "      <td>510</td>\n",
       "      <td>570.0</td>\n",
       "      <td>580.0</td>\n",
       "      <td>562</td>\n",
       "      <td>564</td>\n",
       "    </tr>\n",
       "    <tr>\n",
       "      <th>10</th>\n",
       "      <td>488</td>\n",
       "      <td>2010</td>\n",
       "      <td>489</td>\n",
       "      <td>492</td>\n",
       "      <td>479</td>\n",
       "      <td>523</td>\n",
       "      <td>534</td>\n",
       "      <td>NaN</td>\n",
       "      <td>NaN</td>\n",
       "      <td>539</td>\n",
       "      <td>557</td>\n",
       "    </tr>\n",
       "  </tbody>\n",
       "</table>\n",
       "</div>"
      ],
      "text/plain": [
       "    hubei  year  henan  shanxi  jiangxi  hunan  anhui  shandong  guangdong  \\\n",
       "0     426  2020    465     469      488    526    499     503.0      430.0   \n",
       "1     445  2019    447     481      502    523    504     505.0      455.0   \n",
       "2     441  2018    436     476      496    526    486     483.0      443.0   \n",
       "3     406  2017    389     452      458    485    440     483.0      520.0   \n",
       "4     403  2016    458     460      450    476    518     530.0      514.0   \n",
       "5     477  2015    455     462      487    481    558     568.0      573.0   \n",
       "6     482  2014    483     478      479    501    500     579.0      579.0   \n",
       "7     480  2013    465     459      484    502    498     570.0      594.0   \n",
       "8     515  2012    509     492      523    523    541     573.0      589.0   \n",
       "9     507  2011    515     496      484    528    510     570.0      580.0   \n",
       "10    488  2010    489     492      479    523    534       NaN        NaN   \n",
       "\n",
       "    hebei  fujian  \n",
       "0     465     465  \n",
       "1     549     550  \n",
       "2     559     551  \n",
       "3     517     489  \n",
       "4     535     501  \n",
       "5     548     549  \n",
       "6     563     561  \n",
       "7     561     513  \n",
       "8     572     557  \n",
       "9     562     564  \n",
       "10    539     557  "
      ]
     },
     "execution_count": 6,
     "metadata": {},
     "output_type": "execute_result"
    }
   ],
   "source": [
    "df01"
   ]
  },
  {
   "cell_type": "code",
   "execution_count": 7,
   "metadata": {},
   "outputs": [],
   "source": [
    "xs=df010[['year','henan','shanxi','jiangxi','hunan','anhui','hebei','fujian']]                         \n",
    "ys=df010.hubei"
   ]
  },
  {
   "cell_type": "code",
   "execution_count": 8,
   "metadata": {},
   "outputs": [
    {
     "name": "stdout",
     "output_type": "stream",
     "text": [
      "0.6\n"
     ]
    },
    {
     "name": "stderr",
     "output_type": "stream",
     "text": [
      "C:\\Users\\dyw2000\\Anaconda3\\lib\\site-packages\\sklearn\\preprocessing\\data.py:625: DataConversionWarning: Data with input dtype int64 were all converted to float64 by StandardScaler.\n",
      "  return self.partial_fit(X, y)\n",
      "C:\\Users\\dyw2000\\Anaconda3\\lib\\site-packages\\sklearn\\base.py:462: DataConversionWarning: Data with input dtype int64 were all converted to float64 by StandardScaler.\n",
      "  return self.fit(X, **fit_params).transform(X)\n",
      "C:\\Users\\dyw2000\\Anaconda3\\lib\\site-packages\\sklearn\\model_selection\\_split.py:2053: FutureWarning: You should specify a value for 'cv' instead of relying on the default value. The default value will change from 3 to 5 in version 0.22.\n",
      "  warnings.warn(CV_WARNING, FutureWarning)\n"
     ]
    }
   ],
   "source": [
    "###Selecting lambda\n",
    "scaler=StandardScaler()\n",
    "X_std=scaler.fit_transform(xs)\n",
    "\n",
    "# 通过交叉验证来\n",
    "regr_cv=LassoCV(alphas=np.arange(0.1,10,0.1))\n",
    "\n",
    "model_cv=regr_cv.fit(X_std,ys)\n",
    "\n",
    "# 输出最佳的alpha\n",
    "print(model_cv.alpha_)"
   ]
  },
  {
   "cell_type": "code",
   "execution_count": 9,
   "metadata": {},
   "outputs": [],
   "source": [
    "#预测\n",
    "def predict(data,LinearRegression):\n",
    "    Y_pred = LinearRegression.predict(data)\n",
    "    print(Y_pred)\n",
    "    return Y_pred\n",
    " \n",
    "#训练模型\n",
    "def reg_model(data,label,test): \n",
    "    regr = Lasso(alpha=0.6)  #Lasso回归\n",
    "    regr.fit(data,label)\n",
    "    Y_pred_train = regr.predict(data)   #训练集的预测值\n",
    "    predict(test,regr)  #预测\n",
    "    print('参数：',regr.coef_.astype(np.float32))    \n",
    "    \n",
    "#对模型进行评估   \n",
    "    print(\"MSE:\",mean_squared_error(label,Y_pred_train))  #误差\n",
    "    print(\"MAE:\",mean_absolute_error(label,Y_pred_train))\n",
    "    print(\"R2:\",r2_score(label,Y_pred_train))"
   ]
  },
  {
   "cell_type": "code",
   "execution_count": 10,
   "metadata": {},
   "outputs": [
    {
     "name": "stderr",
     "output_type": "stream",
     "text": [
      "C:\\Users\\dyw2000\\Anaconda3\\lib\\site-packages\\ipykernel_launcher.py:2: DataConversionWarning: Data with input dtype int64 were all converted to float64 by StandardScaler.\n",
      "  \n"
     ]
    }
   ],
   "source": [
    "xs1 = df011[['year','henan','shanxi','jiangxi','hunan','anhui','hebei','fujian']]   \n",
    "X_test=scaler.transform(xs1)"
   ]
  },
  {
   "cell_type": "code",
   "execution_count": 11,
   "metadata": {},
   "outputs": [
    {
     "name": "stdout",
     "output_type": "stream",
     "text": [
      "[358.90832692]\n",
      "参数： [-23.200588    0.         -5.5248146  12.184623   -0.         -0.\n",
      "   6.1665134  11.120279 ]\n",
      "MSE: 45.45875086540927\n",
      "MAE: 6.227335191126002\n",
      "R2: 0.9669352427443126\n"
     ]
    }
   ],
   "source": [
    "reg_model(X_std,ys,X_test)"
   ]
  },
  {
   "cell_type": "code",
   "execution_count": null,
   "metadata": {},
   "outputs": [],
   "source": []
  }
 ],
 "metadata": {
  "kernelspec": {
   "display_name": "Python 3",
   "language": "python",
   "name": "python3"
  },
  "language_info": {
   "codemirror_mode": {
    "name": "ipython",
    "version": 3
   },
   "file_extension": ".py",
   "mimetype": "text/x-python",
   "name": "python",
   "nbconvert_exporter": "python",
   "pygments_lexer": "ipython3",
   "version": "3.7.1"
  }
 },
 "nbformat": 4,
 "nbformat_minor": 2
}
