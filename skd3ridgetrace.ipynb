{
 "cells": [
  {
   "cell_type": "code",
   "execution_count": 1,
   "metadata": {},
   "outputs": [],
   "source": [
    "import numpy as np \n",
    "import matplotlib.pyplot as plt \n",
    "import pandas as pd \n",
    "from sklearn.linear_model import Ridge\n",
    "from sklearn.linear_model import RidgeCV\n",
    "from sklearn import preprocessing\n",
    "from sklearn.preprocessing import StandardScaler\n",
    "import csv\n",
    "from pylab import *\n",
    "from patsy import dmatrices"
   ]
  },
  {
   "cell_type": "code",
   "execution_count": 2,
   "metadata": {},
   "outputs": [],
   "source": [
    "df01=pd.read_excel('wenke1ben.xls')"
   ]
  },
  {
   "cell_type": "markdown",
   "metadata": {},
   "source": [
    "# 交换年份与响应变量湖北成绩的顺序以便后续操作"
   ]
  },
  {
   "cell_type": "code",
   "execution_count": 3,
   "metadata": {},
   "outputs": [],
   "source": [
    "cols = list(df01)\n",
    "cols.insert(0,cols.pop(cols.index('hubei')))"
   ]
  },
  {
   "cell_type": "code",
   "execution_count": 4,
   "metadata": {},
   "outputs": [],
   "source": [
    "df01 = df01.loc[:,cols]"
   ]
  },
  {
   "cell_type": "code",
   "execution_count": 5,
   "metadata": {},
   "outputs": [],
   "source": [
    "df010 = df01.drop(index = 0)\n",
    "df011 = df01[0:1]"
   ]
  },
  {
   "cell_type": "code",
   "execution_count": 6,
   "metadata": {},
   "outputs": [
    {
     "data": {
      "text/plain": [
       "1     542\n",
       "2     561\n",
       "3     528\n",
       "4     520\n",
       "5     521\n",
       "6     535\n",
       "7     531\n",
       "8     561\n",
       "9     547\n",
       "10    530\n",
       "Name: hubei, dtype: int64"
      ]
     },
     "execution_count": 6,
     "metadata": {},
     "output_type": "execute_result"
    }
   ],
   "source": [
    "df010.iloc[:,0]"
   ]
  },
  {
   "cell_type": "markdown",
   "metadata": {},
   "source": [
    "# 利用sklearn Ridge来实现岭回归"
   ]
  },
  {
   "cell_type": "code",
   "execution_count": 7,
   "metadata": {},
   "outputs": [
    {
     "name": "stderr",
     "output_type": "stream",
     "text": [
      "C:\\Users\\dyw2000\\Anaconda3\\lib\\site-packages\\ipykernel_launcher.py:2: DataConversionWarning: Data with input dtype int64 were all converted to float64 by the scale function.\n",
      "  \n"
     ]
    }
   ],
   "source": [
    "# 数据标准化\n",
    "df_scaled = preprocessing.scale(df010)\n",
    "df_scaled=pd.DataFrame(df_scaled)\n",
    "\n",
    "# make response (ys) and predictors (xs)\n",
    "xs = df_scaled.iloc[:,1:]\n",
    "ys = df_scaled.iloc[:,0]\n",
    "\n",
    "coef=[]\n",
    "alphas = arange(0,10,0.1)\n",
    "\n",
    "for a in alphas:\n",
    "  ridgereg=Ridge(alpha=a)\n",
    "  ridgereg.fit(xs,ys)\n",
    "  coef.append(ridgereg.coef_)\n"
   ]
  },
  {
   "cell_type": "markdown",
   "metadata": {},
   "source": [
    "# 岭迹图"
   ]
  },
  {
   "cell_type": "code",
   "execution_count": 8,
   "metadata": {},
   "outputs": [
    {
     "data": {
      "image/png": "[encoded data removed]",
      "text/plain": [
       "<Figure size 432x288 with 1 Axes>"
      ]
     },
     "metadata": {
      "needs_background": "light"
     },
     "output_type": "display_data"
    }
   ],
   "source": [
    "# Make plot of Beta as a function of Alpha（岭迹图）\n",
    "fig=plt.figure()\n",
    "ax=fig.add_subplot(111)\n",
    "ax.plot(alphas,coef)\n",
    "ax.set_xlabel('Alpha (Regularization Parameter)')\n",
    "ax.set_ylabel('Beta (Predictor Coefficients)')\n",
    "ax.set_title('Ridge Coefficients vs Regularization Parameters')\n",
    "ax.axis('tight')\n",
    "fig.savefig('coef_vs_alpha.png')"
   ]
  },
  {
   "cell_type": "markdown",
   "metadata": {},
   "source": [
    "# 交叉验证选择合适的alpha，并输出此时的系数beta和 $𝑅^2$"
   ]
  },
  {
   "cell_type": "code",
   "execution_count": 9,
   "metadata": {},
   "outputs": [
    {
     "name": "stdout",
     "output_type": "stream",
     "text": [
      "0.2\n"
     ]
    }
   ],
   "source": [
    "###Selecting lambda\n",
    "scaler=StandardScaler()\n",
    "X_std=scaler.fit_transform(xs)\n",
    "\n",
    "# 通过交叉验证来\n",
    "regr_cv=RidgeCV(alphas=arange(0.1,10,0.1))\n",
    "model_cv=regr_cv.fit(X_std,ys)\n",
    "\n",
    "# 输出最佳的alpha\n",
    "print(model_cv.alpha_)\n"
   ]
  },
  {
   "cell_type": "code",
   "execution_count": 10,
   "metadata": {},
   "outputs": [
    {
     "name": "stdout",
     "output_type": "stream",
     "text": [
      "[ 0.0474881   0.36831437 -0.01358262  0.52734488  0.25160538 -0.02441426]\n",
      "\n",
      "\n",
      "R2 =  0.9750281389633726\n"
     ]
    }
   ],
   "source": [
    "# 输出最佳模型的系数\n",
    "ridgereg=Ridge(alpha=1)\n",
    "ridgereg.fit(xs,ys)\n",
    "print(ridgereg.coef_)\n",
    "ridgereg.score(X_std,ys)\n",
    "print('\\n')\n",
    "print('R2 = ',ridgereg.score(X_std,ys))"
   ]
  },
  {
   "cell_type": "code",
   "execution_count": null,
   "metadata": {},
   "outputs": [],
   "source": []
  }
 ],
 "metadata": {
  "kernelspec": {
   "display_name": "Python 3",
   "language": "python",
   "name": "python3"
  },
  "language_info": {
   "codemirror_mode": {
    "name": "ipython",
    "version": 3
   },
   "file_extension": ".py",
   "mimetype": "text/x-python",
   "name": "python",
   "nbconvert_exporter": "python",
   "pygments_lexer": "ipython3",
   "version": "3.7.1"
  }
 },
 "nbformat": 4,
 "nbformat_minor": 2
}
