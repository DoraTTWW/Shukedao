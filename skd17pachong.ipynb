{
 "cells": [
  {
   "cell_type": "code",
   "execution_count": 1,
   "metadata": {},
   "outputs": [],
   "source": [
    "import requests\n",
    "from lxml import etree\n",
    "import os\n",
    "import xlwt\n",
    "import sys\n",
    "import types"
   ]
  },
  {
   "cell_type": "markdown",
   "metadata": {},
   "source": [
    "# 爬虫"
   ]
  },
  {
   "cell_type": "code",
   "execution_count": 2,
   "metadata": {},
   "outputs": [],
   "source": [
    "def test():\n",
    "    # 定义爬取的连接\n",
    "    url = \"http://www.gaokao.com/yunnan/fsx/\"\n",
    "    # 使用rs获取返回值\n",
    "    rs = requests.get(url)\n",
    "    # 定义rs的字符集格式\n",
    "    rs.encoding = \"gbk\"\n",
    "    # 将网页的文本信息传给html\n",
    "    html = rs.text\n",
    "    # 将网页转化为可以分析的格式\n",
    "    myHtml = etree.HTML(html)\n",
    "\n",
    "    # 获取网页上的年份\n",
    "    nian = myHtml.xpath(\"//tr[@class='wkTit']/th/text()\")\n",
    "    # 将年转化为字符串列表\n",
    "    year = []\n",
    "    for i in range(0, 11):\n",
    "        year.append(nian[i]\n",
    "    # print(year)\n",
    "\n",
    "    # 获取网页上的文文科和理科的一本线成绩\n",
    "    one = myHtml.xpath(\"//tr[@class='c_blue']/td/text()\")\n",
    "    # 将文科一本线化为字符串列表，同时将“-”替换为“0”\n",
    "    one1 = []\n",
    "    for i in range(1, 12):\n",
    "        one1.append(one[i].replace(\"\\r\\n\\t\\t\\t\\t\", \"\").replace(\"-\", \"0\"))\n",
    "    one2 = []\n",
    "    # 将理科一本线化为字符串列表，同时将“-”替换为“0”\n",
    "    for i in range(25, 36):\n",
    "        one2.append(one[i].replace(\"\\r\\n\\t\\t\\t\\t\", \"\").replace(\"-\", \"0\"))\n",
    "\n",
    "    # 获取网页上的文科和理科的二本线成绩\n",
    "    two = myHtml.xpath(\"//tr[@class='c_white']/td/text()\")\n",
    "    # 将文科二本线化为字符串列表，同时将“-”替换为“0”\n",
    "    two1 = []\n",
    "    for i in range(1, 12):\n",
    "        two1.append(two[i].replace(\"\\r\\n\\t\\t\\t\\t\", \"\").replace(\"-\", \"0\"))\n",
    "    # 将理科二本线化为字符串列表，同时将“-”替换为“0”\n",
    "    two2 = []\n",
    "    for i in range(26, 37):\n",
    "        two2.append(two[i].replace(\"\\r\\n\\t\\t\\t\\t\", \"\").replace(\"-\", \"0\"))\n",
    "    # 将所有的本科线打印出来\n",
    "    '''\n",
    "    print(one1)\n",
    "    print(two1)\n",
    "    print(one2)\n",
    "    print(two2)\n",
    "    '''\n",
    "    newList = []\n",
    "    # 将年份，文科、理科一本，文科、理科二本拼作一个newList\n",
    "    for x in zip(year, one1, two1, one2, two2):\n",
    "        newList.append(x)\n",
    "    return newList"
   ]
  },
  {
   "cell_type": "code",
   "execution_count": 3,
   "metadata": {},
   "outputs": [
    {
     "name": "stdout",
     "output_type": "stream",
     "text": [
      "[('2020', '555', '480', '535', '440'), ('2019', '560', '485', '535', '435'), ('2018', '575', '490', '530', '430'), ('2017', '555', '465', '500', '410'), ('2016', '560', '495', '525', '445'), ('2015', '540', '470', '500', '425'), ('2014', '565', '500', '525', '445'), ('2013', '520', '455', '495', '425'), ('2012', '520', '460', '465', '395'), ('2011', '495', '445', '465', '380'), ('2010', '495', '450', '500', '430')]\n"
     ]
    }
   ],
   "source": [
    "print(test())"
   ]
  },
  {
   "cell_type": "markdown",
   "metadata": {},
   "source": [
    "# 定义写入Excel的格式"
   ]
  },
  {
   "cell_type": "code",
   "execution_count": 4,
   "metadata": {},
   "outputs": [],
   "source": [
    "def set_style(name, height, bold = False):\n",
    "    style = xlwt.XFStyle() #初始化样式\n",
    "    font = xlwt.Font() #为样式创建字体\n",
    "    font.name = name\n",
    "    font.bold = bold\n",
    "    font.color_index = 4\n",
    "    font.height = height\n",
    "    style.font = font\n",
    "    return style"
   ]
  },
  {
   "cell_type": "markdown",
   "metadata": {},
   "source": [
    "# 将爬取的数据写入Excel"
   ]
  },
  {
   "cell_type": "code",
   "execution_count": 5,
   "metadata": {},
   "outputs": [
    {
     "name": "stdout",
     "output_type": "stream",
     "text": [
      "创建.xlsx文件成功\n"
     ]
    }
   ],
   "source": [
    "#创建工作簿\n",
    "workbook = xlwt.Workbook(encoding='utf-8')\n",
    "#创建sheet\n",
    "data_sheet = workbook.add_sheet('demo')\n",
    "excelData = test()\n",
    "\n",
    "#定义循环下标\n",
    "index = 0\n",
    "for i in excelData:\n",
    "#每一列的内容(i)\n",
    "    for x, item in enumerate(i):\n",
    "#下标(x)，单元元素(item)\n",
    "        data_sheet.write(index, x, item, set_style('Times New Roman',220, True))\n",
    "    index += 1\n",
    "# sys.exit();\n",
    "#保存文件\n",
    "workbook.save('yunnan.xls')\n",
    " \n",
    "print ('创建.xlsx文件成功')"
   ]
  }
 ],
 "metadata": {
  "kernelspec": {
   "display_name": "Python 3",
   "language": "python",
   "name": "python3"
  },
  "language_info": {
   "codemirror_mode": {
    "name": "ipython",
    "version": 3
   },
   "file_extension": ".py",
   "mimetype": "text/x-python",
   "name": "python",
   "nbconvert_exporter": "python",
   "pygments_lexer": "ipython3",
   "version": "3.7.1"
  }
 },
 "nbformat": 4,
 "nbformat_minor": 2
}
