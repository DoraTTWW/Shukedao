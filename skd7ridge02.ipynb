{
 "cells": [
  {
   "cell_type": "code",
   "execution_count": 1,
   "metadata": {},
   "outputs": [],
   "source": [
    "import numpy as np \n",
    "import matplotlib.pyplot as plt \n",
    "import pandas as pd \n",
    "from sklearn.linear_model import Ridge\n",
    "from sklearn.linear_model import RidgeCV\n",
    "from sklearn import preprocessing\n",
    "from sklearn.preprocessing import StandardScaler\n",
    "import csv\n",
    "from pylab import *\n",
    "from patsy import dmatrices\n",
    "from sklearn.metrics import mean_squared_error,mean_absolute_error,r2_score"
   ]
  },
  {
   "cell_type": "code",
   "execution_count": 2,
   "metadata": {},
   "outputs": [],
   "source": [
    "df01=pd.read_excel('wenke2ben.xls')"
   ]
  },
  {
   "cell_type": "code",
   "execution_count": 3,
   "metadata": {},
   "outputs": [],
   "source": [
    "cols = list(df01)\n",
    "cols.insert(0,cols.pop(cols.index('hubei')))"
   ]
  },
  {
   "cell_type": "code",
   "execution_count": 4,
   "metadata": {},
   "outputs": [],
   "source": [
    "df01 = df01.loc[:,cols]"
   ]
  },
  {
   "cell_type": "code",
   "execution_count": 5,
   "metadata": {},
   "outputs": [],
   "source": [
    "df010 = df01.drop(index = 0)\n",
    "df011 = df01[0:1]"
   ]
  },
  {
   "cell_type": "code",
   "execution_count": 6,
   "metadata": {},
   "outputs": [
    {
     "data": {
      "text/html": [
       "<div>\n",
       "<style scoped>\n",
       "    .dataframe tbody tr th:only-of-type {\n",
       "        vertical-align: middle;\n",
       "    }\n",
       "\n",
       "    .dataframe tbody tr th {\n",
       "        vertical-align: top;\n",
       "    }\n",
       "\n",
       "    .dataframe thead th {\n",
       "        text-align: right;\n",
       "    }\n",
       "</style>\n",
       "<table border=\"1\" class=\"dataframe\">\n",
       "  <thead>\n",
       "    <tr style=\"text-align: right;\">\n",
       "      <th></th>\n",
       "      <th>hubei</th>\n",
       "      <th>year</th>\n",
       "      <th>henan</th>\n",
       "      <th>shanxi</th>\n",
       "      <th>jiangxi</th>\n",
       "      <th>hunan</th>\n",
       "      <th>anhui</th>\n",
       "      <th>shandong</th>\n",
       "      <th>guangdong</th>\n",
       "      <th>hebei</th>\n",
       "      <th>fujian</th>\n",
       "    </tr>\n",
       "  </thead>\n",
       "  <tbody>\n",
       "    <tr>\n",
       "      <th>0</th>\n",
       "      <td>426</td>\n",
       "      <td>2020</td>\n",
       "      <td>465</td>\n",
       "      <td>469</td>\n",
       "      <td>488</td>\n",
       "      <td>526</td>\n",
       "      <td>499</td>\n",
       "      <td>503.0</td>\n",
       "      <td>430.0</td>\n",
       "      <td>465</td>\n",
       "      <td>465</td>\n",
       "    </tr>\n",
       "  </tbody>\n",
       "</table>\n",
       "</div>"
      ],
      "text/plain": [
       "   hubei  year  henan  shanxi  jiangxi  hunan  anhui  shandong  guangdong  \\\n",
       "0    426  2020    465     469      488    526    499     503.0      430.0   \n",
       "\n",
       "   hebei  fujian  \n",
       "0    465     465  "
      ]
     },
     "execution_count": 6,
     "metadata": {},
     "output_type": "execute_result"
    }
   ],
   "source": [
    "df011"
   ]
  },
  {
   "cell_type": "code",
   "execution_count": 7,
   "metadata": {},
   "outputs": [],
   "source": [
    "xs=df010[['year','henan','shanxi','jiangxi','hunan','anhui','hebei','fujian']]                         \n",
    "ys=df010.hubei"
   ]
  },
  {
   "cell_type": "code",
   "execution_count": 8,
   "metadata": {},
   "outputs": [
    {
     "data": {
      "text/plain": [
       "1     445\n",
       "2     441\n",
       "3     406\n",
       "4     403\n",
       "5     477\n",
       "6     482\n",
       "7     480\n",
       "8     515\n",
       "9     507\n",
       "10    488\n",
       "Name: hubei, dtype: int64"
      ]
     },
     "execution_count": 8,
     "metadata": {},
     "output_type": "execute_result"
    }
   ],
   "source": [
    "ys"
   ]
  },
  {
   "cell_type": "code",
   "execution_count": 9,
   "metadata": {},
   "outputs": [
    {
     "name": "stdout",
     "output_type": "stream",
     "text": [
      "6.5\n"
     ]
    },
    {
     "name": "stderr",
     "output_type": "stream",
     "text": [
      "C:\\Users\\dyw2000\\Anaconda3\\lib\\site-packages\\sklearn\\preprocessing\\data.py:625: DataConversionWarning: Data with input dtype int64 were all converted to float64 by StandardScaler.\n",
      "  return self.partial_fit(X, y)\n",
      "C:\\Users\\dyw2000\\Anaconda3\\lib\\site-packages\\sklearn\\base.py:462: DataConversionWarning: Data with input dtype int64 were all converted to float64 by StandardScaler.\n",
      "  return self.fit(X, **fit_params).transform(X)\n"
     ]
    }
   ],
   "source": [
    "###Selecting lambda\n",
    "scaler=StandardScaler()\n",
    "X_std=scaler.fit_transform(xs)\n",
    "\n",
    "# 通过交叉验证来\n",
    "regr_cv=RidgeCV(alphas=np.arange(0.1,10,0.1))\n",
    "\n",
    "model_cv=regr_cv.fit(X_std,ys)\n",
    "\n",
    "# 输出最佳的alpha\n",
    "print(model_cv.alpha_)"
   ]
  },
  {
   "cell_type": "code",
   "execution_count": 10,
   "metadata": {},
   "outputs": [],
   "source": [
    "#预测\n",
    "def predict(data,LinearRegression):\n",
    "    Y_pred = LinearRegression.predict(data)\n",
    "    print(Y_pred)\n",
    "    return Y_pred\n",
    " \n",
    "#训练模型\n",
    "def reg_model(data,label,test):\n",
    "    regr = Ridge(alpha=6.5)   \n",
    "    #regr = Lasso(alpha=1)  #Lasso回归\n",
    "    regr.fit(data,label)\n",
    "    Y_pred_train = regr.predict(data)   #训练集的预测值\n",
    "    predict(test,regr)  #预测\n",
    "    print('参数：',regr.coef_.astype(np.float32))    \n",
    "    \n",
    "#对模型进行评估   \n",
    "    print(\"MSE:\",mean_squared_error(label,Y_pred_train))  #误差\n",
    "    print(\"MAE:\",mean_absolute_error(label,Y_pred_train))\n",
    "    print(\"R2:\",r2_score(label,Y_pred_train))"
   ]
  },
  {
   "cell_type": "code",
   "execution_count": 11,
   "metadata": {},
   "outputs": [
    {
     "name": "stderr",
     "output_type": "stream",
     "text": [
      "C:\\Users\\dyw2000\\Anaconda3\\lib\\site-packages\\ipykernel_launcher.py:2: DataConversionWarning: Data with input dtype int64 were all converted to float64 by StandardScaler.\n",
      "  \n"
     ]
    }
   ],
   "source": [
    "xs1 = df011[['year','henan','shanxi','jiangxi','hunan','anhui','hebei','fujian']]   \n",
    "X_test=scaler.transform(xs1)"
   ]
  },
  {
   "cell_type": "code",
   "execution_count": 12,
   "metadata": {},
   "outputs": [
    {
     "data": {
      "text/html": [
       "<div>\n",
       "<style scoped>\n",
       "    .dataframe tbody tr th:only-of-type {\n",
       "        vertical-align: middle;\n",
       "    }\n",
       "\n",
       "    .dataframe tbody tr th {\n",
       "        vertical-align: top;\n",
       "    }\n",
       "\n",
       "    .dataframe thead th {\n",
       "        text-align: right;\n",
       "    }\n",
       "</style>\n",
       "<table border=\"1\" class=\"dataframe\">\n",
       "  <thead>\n",
       "    <tr style=\"text-align: right;\">\n",
       "      <th></th>\n",
       "      <th>year</th>\n",
       "      <th>henan</th>\n",
       "      <th>shanxi</th>\n",
       "      <th>jiangxi</th>\n",
       "      <th>hunan</th>\n",
       "      <th>anhui</th>\n",
       "      <th>hebei</th>\n",
       "      <th>fujian</th>\n",
       "    </tr>\n",
       "  </thead>\n",
       "  <tbody>\n",
       "    <tr>\n",
       "      <th>0</th>\n",
       "      <td>2020</td>\n",
       "      <td>465</td>\n",
       "      <td>469</td>\n",
       "      <td>488</td>\n",
       "      <td>526</td>\n",
       "      <td>499</td>\n",
       "      <td>465</td>\n",
       "      <td>465</td>\n",
       "    </tr>\n",
       "  </tbody>\n",
       "</table>\n",
       "</div>"
      ],
      "text/plain": [
       "   year  henan  shanxi  jiangxi  hunan  anhui  hebei  fujian\n",
       "0  2020    465     469      488    526    499    465     465"
      ]
     },
     "execution_count": 12,
     "metadata": {},
     "output_type": "execute_result"
    }
   ],
   "source": [
    "xs1"
   ]
  },
  {
   "cell_type": "code",
   "execution_count": 13,
   "metadata": {},
   "outputs": [
    {
     "name": "stdout",
     "output_type": "stream",
     "text": [
      "[397.99726384]\n",
      "参数： [-10.321971    5.347257    1.8415264   5.8012676   1.5235004   2.7567067\n",
      "   6.0891895   5.0328364]\n",
      "MSE: 164.08331909921682\n",
      "MAE: 10.429679716989114\n",
      "R2: 0.8806527893433296\n"
     ]
    }
   ],
   "source": [
    "reg_model(X_std,ys,X_test)"
   ]
  },
  {
   "cell_type": "code",
   "execution_count": null,
   "metadata": {},
   "outputs": [],
   "source": []
  }
 ],
 "metadata": {
  "kernelspec": {
   "display_name": "Python 3",
   "language": "python",
   "name": "python3"
  },
  "language_info": {
   "codemirror_mode": {
    "name": "ipython",
    "version": 3
   },
   "file_extension": ".py",
   "mimetype": "text/x-python",
   "name": "python",
   "nbconvert_exporter": "python",
   "pygments_lexer": "ipython3",
   "version": "3.7.1"
  }
 },
 "nbformat": 4,
 "nbformat_minor": 2
}
